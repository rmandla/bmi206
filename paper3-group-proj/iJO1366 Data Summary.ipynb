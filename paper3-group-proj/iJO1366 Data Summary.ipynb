{
 "cells": [
  {
   "cell_type": "code",
   "execution_count": 189,
   "metadata": {},
   "outputs": [],
   "source": [
    "import xml.etree.ElementTree as ET\n",
    "import matplotlib.pyplot as plt\n",
    "import numpy as np"
   ]
  },
  {
   "cell_type": "code",
   "execution_count": 140,
   "metadata": {},
   "outputs": [],
   "source": [
    "class ReactionNode:\n",
    "    def __init__(self):\n",
    "        self.id = \"\"\n",
    "        self.reagents = []\n",
    "        self.products = []\n",
    "    \n",
    "    def __init__(self, react_id, reagents, products):\n",
    "        self.id = react_id\n",
    "        self.reagents = reagents\n",
    "        self.products = products"
   ]
  },
  {
   "cell_type": "code",
   "execution_count": 161,
   "metadata": {},
   "outputs": [],
   "source": [
    "class Arc:\n",
    "    def __init__(self):\n",
    "        self.start = None\n",
    "        self.end = None\n",
    "        \n",
    "    def __init__(self, startNode, endNode):\n",
    "        self.start = startNode\n",
    "        self.end = endNode\n",
    "    \n",
    "    def start(self, startNode):\n",
    "        self.start = startNode\n",
    "    \n",
    "    def end(self, endNode):\n",
    "        self.end = endNode"
   ]
  },
  {
   "cell_type": "code",
   "execution_count": 125,
   "metadata": {},
   "outputs": [],
   "source": [
    "#species\n",
    "def get_species(root):\n",
    "    species = []\n",
    "    for child in root[0][4]:\n",
    "        species.append(child.attrib['id'])\n",
    "    return species"
   ]
  },
  {
   "cell_type": "code",
   "execution_count": 138,
   "metadata": {},
   "outputs": [],
   "source": [
    "#reactions\n",
    "def get_reactions(root):\n",
    "    reactions = []\n",
    "    for child in root[0][6]:\n",
    "        reac_id = child.attrib['id']\n",
    "        reactants, products = None, None\n",
    "        try:\n",
    "            reactants = []\n",
    "            for reactant in child[1]:\n",
    "                reactants.append(reactant.attrib['species'])\n",
    "            products = []\n",
    "            for product in child[2]:\n",
    "                #print(product.attrib['species'])\n",
    "                products.append(product.attrib['species'])\n",
    "        except:\n",
    "            pass\n",
    "        newReaction = ReactionNode(reac_id, reactants, products)\n",
    "        #print(newReaction.id)\n",
    "        reactions.append(newReaction)\n",
    "    return reactions\n"
   ]
  },
  {
   "cell_type": "code",
   "execution_count": 179,
   "metadata": {},
   "outputs": [],
   "source": [
    "\"\"\"\n",
    "A reaction graph is G = (V, A) where V is a set of reaction nodes, and A is a set of V’s arcs.\n",
    "There exists an arc from the reaction B to the reaction C when a product of B is consumed by C\n",
    "\n",
    "This is an inefficient (O(n^2)) way to do this so it takes a while , just as a heads up. There's probably\n",
    "a better way but for now this is fine\n",
    "\"\"\"\n",
    "def build_arcs(reactions):\n",
    "    arcs = []\n",
    "    for reaction1 in reactions:\n",
    "        for reaction2 in reactions:\n",
    "            if reaction1 == reaction2: #no self-edges, is this right?\n",
    "                break\n",
    "            consumed = [product in reaction2.reagents for product in reaction1.products]\n",
    "            if True in consumed:\n",
    "                newArc = Arc(reaction2, reaction2)\n",
    "                arcs.append(newArc)\n",
    "    return arcs\n",
    "            \n",
    "    "
   ]
  },
  {
   "cell_type": "code",
   "execution_count": 163,
   "metadata": {},
   "outputs": [],
   "source": [
    "def count_freqs(length_array):\n",
    "    freqs = {}\n",
    "    keys = range(min(length_array), max(length_array)+1)\n",
    "    for key in keys:\n",
    "        freqs[key] = 0\n",
    "    for x in length_array:\n",
    "        freqs[x] += 1\n",
    "    return freqs"
   ]
  },
  {
   "cell_type": "code",
   "execution_count": 192,
   "metadata": {},
   "outputs": [
    {
     "name": "stdout",
     "output_type": "stream",
     "text": [
      "Num chemical species:  1805\n",
      "Num reactions:  2583\n",
      "Mean reactants: 1.959\n",
      "SD reactants: 2.483\n",
      "Mean products: 1.983\n",
      "SD products: 1.160\n"
     ]
    },
    {
     "data": {
      "text/plain": [
       "'\\n2 outliers for reactant number:\\n\"E. coli biomass objective function (iJO1366) - WT - with 53.95 GAM estimate\" - 102 reagants\\n\"E. coli biomass objective function (iJO1366) - core - with 53.95 GAM estimate\"- 68 reagants\\n'"
      ]
     },
     "execution_count": 192,
     "metadata": {},
     "output_type": "execute_result"
    },
    {
     "data": {
      "image/png": "[encoded data removed]",
      "text/plain": [
       "<Figure size 432x288 with 2 Axes>"
      ]
     },
     "metadata": {
      "needs_background": "light"
     },
     "output_type": "display_data"
    }
   ],
   "source": [
    "tree = ET.parse('iJO1366.xml')\n",
    "root = tree.getroot()\n",
    "\n",
    "species = get_species(root)\n",
    "reactions = get_reactions(root)\n",
    "\n",
    "print(\"Num chemical species: \", len(species))\n",
    "print(\"Num reactions: \", len(reactions))\n",
    "\n",
    "#graphs of counts\n",
    "\n",
    "num_reactants = [len(x.reagents) for x in reactions]\n",
    "num_products = [len(x.products) for x in reactions]\n",
    "reactant_counts = count_freqs(num_reactants)\n",
    "product_counts = count_freqs(num_products)\n",
    "\n",
    "f, (ax1, ax2) = plt.subplots(1, 2, sharey=True)\n",
    "ax1.bar(reactant_counts.keys(), reactant_counts.values())\n",
    "ax2.bar(product_counts.keys(), product_counts.values())\n",
    "\n",
    "np_reactants = np.array(num_reactants)\n",
    "np_products = np.array(num_products)\n",
    "        \n",
    "print(\"Mean reactants: {0:.3f}\".format(np.average(np_reactants)))\n",
    "print(\"SD reactants: {0:.3f}\".format(np.std(np_reactants)))\n",
    "print(\"Mean products: {0:.3f}\".format(np.average(np_products)))\n",
    "print(\"SD products: {0:.3f}\".format(np.std(np_products)))\n",
    "        \n",
    "\"\"\"\n",
    "2 outliers for reactant number:\n",
    "\"E. coli biomass objective function (iJO1366) - WT - with 53.95 GAM estimate\" - 102 reagants\n",
    "\"E. coli biomass objective function (iJO1366) - core - with 53.95 GAM estimate\"- 68 reagants\n",
    "\"\"\"\n"
   ]
  },
  {
   "cell_type": "code",
   "execution_count": 180,
   "metadata": {},
   "outputs": [
    {
     "name": "stdout",
     "output_type": "stream",
     "text": [
      "175397\n"
     ]
    }
   ],
   "source": [
    "#need to prune this eventually - they talk about this a bit in the methods section\n",
    "\"\"\"\n",
    "Currency metabolites such as ATP, NAD, and H2O are ubiquitously associated with \n",
    "metabolic reactions. However, they are not incorporated into the final products. \n",
    "As pathways routing through the currency metabolites result in a biologically \n",
    "meaningless short path length, the currency metabolites were removed [24, 38, 46]. \n",
    "Similarly, transport and exchange reactions occurring at the cell boundary were \n",
    "removed, as they do not affect any relationship or reaction flow among \n",
    "intracellular reactions, while they inflate the size of the network and the \n",
    "average path length, and weaken the modular structure of intracellular connectivity.\n",
    "\"\"\"\n",
    "arcs = build_arcs(reactions)\n",
    "print(len(arcs))"
   ]
  },
  {
   "cell_type": "code",
   "execution_count": null,
   "metadata": {},
   "outputs": [],
   "source": []
  }
 ],
 "metadata": {
  "kernelspec": {
   "display_name": "Python 3",
   "language": "python",
   "name": "python3"
  },
  "language_info": {
   "codemirror_mode": {
    "name": "ipython",
    "version": 3
   },
   "file_extension": ".py",
   "mimetype": "text/x-python",
   "name": "python",
   "nbconvert_exporter": "python",
   "pygments_lexer": "ipython3",
   "version": "3.7.3"
  }
 },
 "nbformat": 4,
 "nbformat_minor": 2
}
