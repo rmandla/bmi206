{
 "cells": [
  {
   "cell_type": "code",
   "execution_count": 1,
   "metadata": {},
   "outputs": [],
   "source": [
    "import matplotlib.pyplot as plt\n",
    "import numpy as np\n",
    "import pandas as pd\n",
    "import math\n",
    "import scipy.stats as scis"
   ]
  },
  {
   "cell_type": "markdown",
   "metadata": {},
   "source": [
    "## Figure recreation"
   ]
  },
  {
   "cell_type": "markdown",
   "metadata": {},
   "source": [
    "### Classes and functions"
   ]
  },
  {
   "cell_type": "code",
   "execution_count": 2,
   "metadata": {},
   "outputs": [],
   "source": [
    "#Network nodes\n",
    "class MetNode:\n",
    "    def __init__(self, name, essential):\n",
    "        self.name = name\n",
    "        self.essential = essential\n",
    "        self.between_centrality = 0\n",
    "        self.bridging_coefficient = 0\n",
    "        self.bridging_centrality = 0\n",
    "        self.cascade_set = None\n",
    "        self.cascade_number = 0\n",
    "        self.in_edges = None\n",
    "        self.in_out = None\n",
    "    \n",
    "    def find_in_edges(self, edges):\n",
    "        self.in_edges = [x for x in edges if x[1] == self.name]\n",
    "        \n",
    "    def find_out_edges(self, edges):\n",
    "        self.out_edges = [x for x in edges if x[0] == self.name]"
   ]
  },
  {
   "cell_type": "code",
   "execution_count": 3,
   "metadata": {},
   "outputs": [],
   "source": [
    "#Builds edges from adjacency matrix, disgustingly O(n^2), sorry\n",
    "def build_network(adjacency_matrix):\n",
    "    edges = []\n",
    "    for row in adjacency_matrix.index:\n",
    "        for col in adjacency_matrix.columns:\n",
    "            if adjacency_matrix.at[row, col]:\n",
    "                new_edge = (row.strip(), col.strip())\n",
    "                edges.append(new_edge)\n",
    "    return edges"
   ]
  },
  {
   "cell_type": "code",
   "execution_count": 4,
   "metadata": {},
   "outputs": [],
   "source": [
    "#read in essential functions, calculated in MatLab using FBA in COBRA toolbox\n",
    "def read_essential(filename):\n",
    "    essential_nodes = []\n",
    "    with open(filename, 'r') as f:\n",
    "        essential_nodes = f.read().splitlines()\n",
    "    return essential_nodes"
   ]
  },
  {
   "cell_type": "markdown",
   "metadata": {},
   "source": [
    "#### Centrality metrics"
   ]
  },
  {
   "cell_type": "code",
   "execution_count": 5,
   "metadata": {},
   "outputs": [],
   "source": [
    "\"\"\"\n",
    "The betweenness centrality of a node is the fraction of shortest \n",
    "paths from all nodes to all others that pass through the \n",
    "particular node.\n",
    "\n",
    "B(i) = sum(j != k != i) sigma_jk(i)/sigma_jk\n",
    "\n",
    "where sigma_jk is the total number of shortest paths from node j to node k\n",
    "sigma_jk(i) total number of those paths that pass through node i\n",
    "\n",
    "Implementation taken from Brandes, Ulrik (2001). \"A faster \n",
    "algorithm for betweenness centrality\", Journal of\n",
    "Mathematical Sociology. 25 (2): 163–177\n",
    "\"\"\"  \n",
    "\n",
    "def betweenness_centrality(all_nodes):\n",
    "    bcs = {} #empty dictionary, will hold betcens\n",
    "    for s in all_nodes.values():\n",
    "        bcs[s] = 0 #initalize all to 0\n",
    "    for j in all_nodes.values():\n",
    "        S = [] #empty stack\n",
    "        P = {}\n",
    "        sigma = {}\n",
    "        d = {}\n",
    "        delta = {}\n",
    "        for k in all_nodes.values():\n",
    "            P[k] = [] #empty list\n",
    "            sigma[k] = 0\n",
    "            d[k] = -1\n",
    "            delta[k] = 0 #delta[v] <- 0 for v in V\n",
    "        sigma[j] = 1 #sigma[s] <- 1\n",
    "        d[j] = 0 #d[s] <- 0\n",
    "        Q = [] # empty queue\n",
    "        Q.append(j) #enqueue s -> Q\n",
    "        while Q:\n",
    "            v = Q[0] # dequeue v <- Q\n",
    "            Q.remove(v)\n",
    "            S.append(v) #push v -> S\n",
    "            for w in [all_nodes[x[1]] for x in v.out_edges]:\n",
    "                if d[w] < 0:\n",
    "                    Q.append(w) #enqueue w -> Q\n",
    "                    d[w] = d[v] + 1 #update distance\n",
    "                if d[w] == (d[v] + 1):\n",
    "                    sigma[w] += sigma[v]\n",
    "                    P[w].append(v) #append v -> P[w]\n",
    "        while S:\n",
    "            w = S[-1] # pop w <- S\n",
    "            S.remove(w)\n",
    "            for v in P[w]:\n",
    "                delta[v] += (sigma[v]/sigma[w])*(1+delta[w])\n",
    "            if w != j:\n",
    "                bcs[w] += delta[w]\n",
    "    return bcs"
   ]
  },
  {
   "cell_type": "code",
   "execution_count": 6,
   "metadata": {},
   "outputs": [],
   "source": [
    "#degree_total(i)^-1/ sum of total degrees of neighbors^-1\n",
    "def bridging_coefficient(node, all_nodes):\n",
    "    if len(node.in_edges) == 0 and len(node.out_edges) == 0:\n",
    "        return 0\n",
    "    num = total_degree(node)**-1\n",
    "    denom = 0\n",
    "    for neighbor in get_neighborhood(node, all_nodes):\n",
    "        denom += total_degree(neighbor)**-1\n",
    "    return num/denom\n",
    "        \n",
    "def total_degree(node):\n",
    "    return len(node.in_edges) + len(node.out_edges)\n",
    "\n",
    "def get_neighborhood(node, all_nodes):\n",
    "    return set([all_nodes[edge[1]] for edge in node.out_edges] \\\n",
    "        + [all_nodes[edge[0]] for edge in node.in_edges])"
   ]
  },
  {
   "cell_type": "code",
   "execution_count": 7,
   "metadata": {},
   "outputs": [],
   "source": [
    "def cascade_set(node, all_nodes):\n",
    "    start_node = node\n",
    "    cutoff = {}\n",
    "    for v in all_nodes.values():\n",
    "        cutoff[v] = 0\n",
    "    queue = [] #initialize a queue with the Node\n",
    "    cutoff[node] = 1 #mark node as cut off\n",
    "    # add all nodes v for which (Node, v) in A to the queue\n",
    "    queue += [all_nodes[edge[1]] for edge in node.out_edges]\n",
    "    for q in queue:\n",
    "        if all([cutoff[all_nodes[edge[0]]] for edge in q.in_edges]):\n",
    "           cutoff[q] = 1\n",
    "           queue += [all_nodes[edge[1]] for edge in q.out_edges]\n",
    "    cascade_set = [node for node in cutoff.keys() if cutoff[node]]\n",
    "    cascade_set.remove(start_node)    \n",
    "    return cascade_set"
   ]
  },
  {
   "cell_type": "code",
   "execution_count": 8,
   "metadata": {},
   "outputs": [],
   "source": [
    "#C(i) = n_i/(k_i * (k_i - 1))\n",
    "#n_i is the number of arcs between neighborhood of the node i\n",
    "#k_i is the number of neighbors of node i\n",
    "def clustering_coefficient(node, all_nodes):\n",
    "    neighborhood = set([all_nodes[edge[1]] for edge in node.out_edges] \\\n",
    "        + [all_nodes[edge[0]] for edge in node.in_edges])\n",
    "    k_i = len(neighborhood)\n",
    "    n_i = 0\n",
    "    for j in neighborhood:\n",
    "        for k in neighborhood:\n",
    "            if j != k:\n",
    "                if (j.name, k.name) in j.out_edges:\n",
    "                    n_i +=1\n",
    "    if k_i == 0 or k_i == 1:\n",
    "        return 0.1\n",
    "    return n_i/(k_i * (k_i - 1))"
   ]
  },
  {
   "cell_type": "markdown",
   "metadata": {},
   "source": [
    "#### Functions to plot"
   ]
  },
  {
   "cell_type": "code",
   "execution_count": 9,
   "metadata": {},
   "outputs": [],
   "source": [
    "#bin by metrics\n",
    "def bin_nodes(nodes, inds, bins):\n",
    "    bc_bins = {}\n",
    "    for i in range(len(inds)):\n",
    "        bin_index = inds[i] \n",
    "        if bin_index >= len(bins):\n",
    "            bin_index = len(bins) - 1\n",
    "        node_bin = bins[bin_index]\n",
    "        if node_bin in bc_bins.keys():\n",
    "            bc_bins[node_bin].append(nodes[i])\n",
    "        else:\n",
    "            bc_bins[node_bin] = [nodes[i]]\n",
    "    return bc_bins\n",
    "\n",
    "def log10(val):\n",
    "    if val == 0:\n",
    "        return 0\n",
    "    return math.log10(val)"
   ]
  },
  {
   "cell_type": "code",
   "execution_count": 10,
   "metadata": {},
   "outputs": [],
   "source": [
    "def count_essential(bins):\n",
    "#calculate number + fraction of essential reactions\n",
    "    x = []\n",
    "    y = []\n",
    "    unessential = []\n",
    "    essential = []\n",
    "    for key, val in sorted(bins.items(), key = lambda x: x[0]):\n",
    "        x.append(key)\n",
    "        y.append(100*sum([node.essential for node in val])/len(val))\n",
    "        essential.append(sum([node.essential for node in val]))\n",
    "        unessential.append(len(val) - essential[-1])\n",
    "    return x, y, essential, unessential"
   ]
  },
  {
   "cell_type": "code",
   "execution_count": 11,
   "metadata": {},
   "outputs": [],
   "source": [
    "def fig3plot(x, y, essential, unessential, x_title, x_min, x_max, x_step, x_width, r_x, r_y, title = None):\n",
    "    #use all the data to generate the figure\n",
    "    fig, ax1 = plt.subplots()\n",
    "    ax1.set_xlabel(x_title)\n",
    "    ax1.set_xticks(np.arange(x_min, x_max, x_step))\n",
    "    ax1.set_ylabel('Number of reactions')\n",
    "    ax1.bar(x, essential, x_width, color = 'black')\n",
    "    ax1.bar(x, unessential, x_width, bottom=essential, color = 'darkgray')\n",
    "\n",
    "    #linear regression\n",
    "    slope, intercept, r, p, stderr = scis.linregress(x, y)\n",
    "    \n",
    "    ax2 = ax1.twinx()\n",
    "    ax2.set_ylabel(\"% Essential reactions\")\n",
    "    ax2.scatter(x, y, color = 'black')\n",
    "    x_lin = np.linspace(0, max(x), 18)\n",
    "    y_lin = intercept + slope*x_lin\n",
    "    ax2.plot(x_lin, y_lin, color='black')\n",
    "\n",
    "    r_text = \"r = {:0.2f}\".format(r)\n",
    "    ax2.text(r_x, r_y, r_text)\n",
    "    \n",
    "    if title:\n",
    "        plt.title(title)\n",
    "    \n",
    "    fig.tight_layout()\n",
    "    plt.show()\n",
    "    \n",
    "    return fig"
   ]
  },
  {
   "cell_type": "markdown",
   "metadata": {},
   "source": [
    "### Read in data and build network"
   ]
  },
  {
   "cell_type": "markdown",
   "metadata": {},
   "source": [
    "#### Test on toy graph (Fig 1)"
   ]
  },
  {
   "cell_type": "code",
   "execution_count": 12,
   "metadata": {},
   "outputs": [],
   "source": [
    "testEdges = [('1', '2'), ('1', '3'), ('1', '4'), ('2', '4'),\n",
    "             ('3', '4'), ('4', '5'),('5', '6'),('6', '7'),('7', '6')]\n",
    "\n",
    "testNodes = {}\n",
    "for i in range(1,8):\n",
    "    newNode = MetNode(str(i), False) #essential doesn't matter here\n",
    "    newNode.find_in_edges(testEdges)\n",
    "    newNode.find_out_edges(testEdges)\n",
    "    testNodes[str(i)] = newNode"
   ]
  },
  {
   "cell_type": "code",
   "execution_count": 13,
   "metadata": {},
   "outputs": [],
   "source": [
    "#calculate and update centrality metrics\n",
    "test_bcs = betweenness_centrality(testNodes) \n",
    "for node, val in test_bcs.items():\n",
    "    node.between_centrality = val\n",
    "    node.bridging_coefficient = bridging_coefficient(node, testNodes)\n",
    "    node.bridging_centrality = node.between_centrality * node.bridging_coefficient\n",
    "    node.cascade_number = len(cascade_set(node, testNodes))"
   ]
  },
  {
   "cell_type": "code",
   "execution_count": 14,
   "metadata": {},
   "outputs": [
    {
     "data": {
      "text/plain": [
       "True"
      ]
     },
     "execution_count": 14,
     "metadata": {},
     "output_type": "execute_result"
    }
   ],
   "source": [
    "#compare against knowns (Table 2)\n",
    "table_2_vals = [[3, 2, 2, 4, 2, 3, 2],\n",
    "                [0, 0, 0, 9, 8, 5, 0],\n",
    "                ['0.2667', '0.8571', '0.8571', '0.1364', '0.8571', '0.3333', '1.5000'],\n",
    "                [0, 0, 0, 1.2273, 6.8571, 1.6667, 0],\n",
    "                [4, 0, 0, 1, 0, 1, 0]]\n",
    "\n",
    "degrees = []\n",
    "BCs = []\n",
    "Brs = []\n",
    "BrCs = []\n",
    "C_numbers = []\n",
    "for key in sorted(testNodes.keys()):\n",
    "    node = testNodes[key]\n",
    "    degrees.append(total_degree(node))\n",
    "    BCs.append(node.between_centrality)\n",
    "    #rounding + string conversion to get around imperfect float representation\n",
    "    Brs.append(\"{0:.4f}\".format(round(node.bridging_coefficient/ 0.0001) * 0.0001)) \n",
    "    BrCs.append(round(node.bridging_centrality/ 0.0001) * 0.0001)\n",
    "    C_numbers.append(node.cascade_number)\n",
    "    \n",
    "table_2_vals == [degrees, BCs, Brs, BrCs, C_numbers]"
   ]
  },
  {
   "cell_type": "markdown",
   "metadata": {},
   "source": [
    "#### Generate figure with actual data "
   ]
  },
  {
   "cell_type": "code",
   "execution_count": 15,
   "metadata": {},
   "outputs": [],
   "source": [
    "#automatically reads 1st sheet, which is E. coli\n",
    "adjacency_matrix = pd.read_excel('12859_2019_2897_MOESM2_ESM.xlsx', index_col=0)"
   ]
  },
  {
   "cell_type": "code",
   "execution_count": 16,
   "metadata": {},
   "outputs": [],
   "source": [
    "#construct network from adjacency matrix\n",
    "am_arcs = build_network(adjacency_matrix)\n",
    "unique_nodes = set([x[0] for x in am_arcs] + [x[1] for x in am_arcs])"
   ]
  },
  {
   "cell_type": "code",
   "execution_count": 17,
   "metadata": {},
   "outputs": [],
   "source": [
    "essential_nodes = read_essential('le0.05_essential_rxns.txt')"
   ]
  },
  {
   "cell_type": "code",
   "execution_count": 18,
   "metadata": {},
   "outputs": [],
   "source": [
    "#build all reaction nodes, set edges + essential\n",
    "metNodes = {}\n",
    "for node in unique_nodes:\n",
    "    newNode = MetNode(node, node in essential_nodes)\n",
    "    newNode.find_in_edges(am_arcs)\n",
    "    newNode.find_out_edges(am_arcs)\n",
    "    metNodes[node] = newNode #for constant access"
   ]
  },
  {
   "cell_type": "code",
   "execution_count": 19,
   "metadata": {},
   "outputs": [
    {
     "name": "stdout",
     "output_type": "stream",
     "text": [
      "241\n"
     ]
    }
   ],
   "source": [
    "#paper has 246\n",
    "print(sum([node.essential for node in metNodes.values()]))"
   ]
  },
  {
   "cell_type": "code",
   "execution_count": 20,
   "metadata": {},
   "outputs": [],
   "source": [
    "#calculate and update centrality metrics\n",
    "met_bcs = betweenness_centrality(metNodes)\n",
    "for node, val in met_bcs.items():\n",
    "    node.between_centrality = val\n",
    "    node.bridging_coefficient = bridging_coefficient(node, metNodes)\n",
    "    node.bridging_centrality = node.between_centrality * node.bridging_coefficient\n",
    "    node.clustering_coefficient = clustering_coefficient(node, metNodes)"
   ]
  },
  {
   "cell_type": "code",
   "execution_count": 21,
   "metadata": {},
   "outputs": [],
   "source": [
    "sorted_nodes = sorted(list(metNodes.values()), key=lambda x: x.name)\n",
    "inds = np.digitize([log10(node.bridging_centrality) for node in sorted_nodes], np.arange(0.0, 5.0, 0.5))\n",
    "a = bin_nodes(sorted_nodes,\n",
    "        np.digitize([log10(node.bridging_centrality) for node in sorted_nodes], \n",
    "        np.arange(0.0, 5.0, 0.5), right=True), np.arange(0.0, 5.0, 0.5))\n",
    "b = bin_nodes(sorted_nodes, \n",
    "        np.digitize([log10(node.between_centrality) for node in sorted_nodes], \n",
    "        np.arange(0.0, 5.5, 0.5), right = True), np.arange(0.0, 5.5, 0.5))\n",
    "c = bin_nodes(sorted_nodes, \n",
    "        np.digitize([node.clustering_coefficient for node in sorted_nodes], \n",
    "        np.arange(0.1, 1.1, 0.1), right = True), np.arange(0.1, 1.1, 0.1))\n",
    "d = bin_nodes(sorted_nodes, \n",
    "        np.digitize([log10(total_degree(node)) for node in sorted_nodes], \n",
    "        np.arange(0.25, 2.50, 0.25), right = True), np.arange(0.25, 2.50, 0.25))"
   ]
  },
  {
   "cell_type": "code",
   "execution_count": 22,
   "metadata": {},
   "outputs": [],
   "source": [
    "x, y, e, u = count_essential(a)"
   ]
  },
  {
   "cell_type": "code",
   "execution_count": 23,
   "metadata": {},
   "outputs": [
    {
     "data": {
      "image/png": "[encoded data removed]",
      "text/plain": [
       "<Figure size 432x288 with 2 Axes>"
      ]
     },
     "metadata": {
      "needs_background": "light"
     },
     "output_type": "display_data"
    }
   ],
   "source": [
    "fig = fig3plot(x, y, e, u, \"Log10(Bridging centrality)\", \n",
    "         0, 5.0, 0.5, 0.35, 4.0, 50, title=\"5% Bridging centrality\")\n",
    "fig.savefig('3a.png', bbox_inches='tight', dpi=200)"
   ]
  },
  {
   "cell_type": "code",
   "execution_count": 24,
   "metadata": {},
   "outputs": [],
   "source": [
    "x2, y2, e2, u2 = count_essential(b)"
   ]
  },
  {
   "cell_type": "code",
   "execution_count": 25,
   "metadata": {},
   "outputs": [
    {
     "data": {
      "image/png": "[encoded data removed]",
      "text/plain": [
       "<Figure size 432x288 with 2 Axes>"
      ]
     },
     "metadata": {
      "needs_background": "light"
     },
     "output_type": "display_data"
    }
   ],
   "source": [
    "fig = fig3plot(x2, y2, e2, u2, \"Log10(Betweenness centrality)\", \n",
    "         0, 5.5, 0.5, 0.35, 4.5, 40)\n",
    "fig.savefig('3b.png', bbox_inches='tight', dpi=200)"
   ]
  },
  {
   "cell_type": "code",
   "execution_count": 26,
   "metadata": {},
   "outputs": [],
   "source": [
    "x3, y3, e3, u3 = count_essential(c)"
   ]
  },
  {
   "cell_type": "code",
   "execution_count": 27,
   "metadata": {},
   "outputs": [
    {
     "data": {
      "image/png": "[encoded data removed]",
      "text/plain": [
       "<Figure size 432x288 with 2 Axes>"
      ]
     },
     "metadata": {
      "needs_background": "light"
     },
     "output_type": "display_data"
    }
   ],
   "source": [
    "fig = fig3plot(x3, y3, e3, u3, \"Clustering coefficient\", \n",
    "         0.1, 1.1, 0.1, 0.075, 0.9, 10)\n",
    "fig.savefig('3c.png', bbox_inches='tight', dpi=200)"
   ]
  },
  {
   "cell_type": "code",
   "execution_count": 28,
   "metadata": {},
   "outputs": [],
   "source": [
    "x4, y4, e4, u4 = count_essential(d)"
   ]
  },
  {
   "cell_type": "code",
   "execution_count": 29,
   "metadata": {},
   "outputs": [
    {
     "data": {
      "image/png": "[encoded data removed]",
      "text/plain": [
       "<Figure size 432x288 with 2 Axes>"
      ]
     },
     "metadata": {
      "needs_background": "light"
     },
     "output_type": "display_data"
    }
   ],
   "source": [
    "fig = fig3plot(x4, y4, e4, u4, \"Log10(Degree)\", \n",
    "         0.25, 2.50, 0.25, 0.2, 2.00, 25)\n",
    "fig.savefig('3d.png', bbox_inches='tight', dpi=200)"
   ]
  },
  {
   "cell_type": "markdown",
   "metadata": {},
   "source": [
    "#### Sensitivity testing"
   ]
  },
  {
   "cell_type": "code",
   "execution_count": 30,
   "metadata": {},
   "outputs": [],
   "source": [
    "#read in new essential reactions and reassign\n",
    "lower_cutoff = read_essential('le0.5_essential_rxns.txt')\n",
    "\n",
    "for node in metNodes.values():\n",
    "    node.essential = node.name in lower_cutoff"
   ]
  },
  {
   "cell_type": "code",
   "execution_count": 31,
   "metadata": {},
   "outputs": [],
   "source": [
    "#recalculale % and plot\n",
    "x, y, e, u = count_essential(a)"
   ]
  },
  {
   "cell_type": "code",
   "execution_count": 32,
   "metadata": {},
   "outputs": [
    {
     "data": {
      "image/png": "[encoded data removed]",
      "text/plain": [
       "<Figure size 432x288 with 2 Axes>"
      ]
     },
     "metadata": {
      "needs_background": "light"
     },
     "output_type": "display_data"
    }
   ],
   "source": [
    "fig = fig3plot(x, y, e, u, \"Log10(Bridging centrality)\", \n",
    "         0, 5.0, 0.5, 0.35, 4.0, 50, title=\"50% Bridging centrality\")\n",
    "fig.savefig('3a_0.5.png', bbox_inches='tight', dpi=200)"
   ]
  }
 ],
 "metadata": {
  "kernelspec": {
   "display_name": "Python 3",
   "language": "python",
   "name": "python3"
  },
  "language_info": {
   "codemirror_mode": {
    "name": "ipython",
    "version": 3
   },
   "file_extension": ".py",
   "mimetype": "text/x-python",
   "name": "python",
   "nbconvert_exporter": "python",
   "pygments_lexer": "ipython3",
   "version": "3.7.4"
  }
 },
 "nbformat": 4,
 "nbformat_minor": 2
}
